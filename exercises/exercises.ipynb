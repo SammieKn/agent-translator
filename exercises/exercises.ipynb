{
 "cells": [
  {
   "cell_type": "markdown",
   "metadata": {},
   "source": [
    "# Setting up the agent \n",
    "\n"
   ]
  },
  {
   "cell_type": "code",
   "execution_count": 1,
   "metadata": {},
   "outputs": [],
   "source": [
    "# set OpenAI key\n",
    "import os, getpass\n",
    "\n",
    "def _set_env(var: str):\n",
    "    if not os.environ.get(var):\n",
    "        os.environ[var] = getpass.getpass(f\"{var}: \")\n",
    "\n",
    "_set_env(\"OPENAI_API_KEY\")"
   ]
  },
  {
   "cell_type": "code",
   "execution_count": 2,
   "metadata": {},
   "outputs": [],
   "source": [
    "# setting up the translator and editor\n",
    "from langchain_openai import ChatOpenAI\n",
    "llm = ChatOpenAI(model=\"gpt-4o-mini\", temperature=0) \n",
    "# llm_edit = ChatOpenAI(model=\"gpt-4o\", temperature=0) "
   ]
  },
  {
   "cell_type": "code",
   "execution_count": 3,
   "metadata": {},
   "outputs": [],
   "source": [
    "# tracing the workflow\n",
    "_set_env(\"LANGCHAIN_API_KEY\")\n",
    "os.environ[\"LANGCHAIN_TRACING_V2\"] = \"true\"\n",
    "os.environ[\"LANGCHAIN_PROJECT\"] = \"langchain-academy\""
   ]
  },
  {
   "cell_type": "markdown",
   "metadata": {},
   "source": [
    "# Exercise 0: Simple chatbot\n",
    "\n",
    "Building an agent to chat with."
   ]
  },
  {
   "cell_type": "code",
   "execution_count": 7,
   "metadata": {},
   "outputs": [],
   "source": [
    "from typing import Annotated\n",
    "from typing_extensions import TypedDict\n",
    "\n",
    "from langgraph.graph import StateGraph, START, END\n",
    "from langgraph.graph.message import add_messages\n",
    "\n",
    "class State(TypedDict):\n",
    "    messages: Annotated[list, add_messages]\n",
    "\n",
    "graph_builder = StateGraph(State)"
   ]
  },
  {
   "cell_type": "code",
   "execution_count": 8,
   "metadata": {},
   "outputs": [],
   "source": [
    "def chatbot(state: State):\n",
    "    return {\"messages\": [llm.invoke(state[\"messages\"])]}"
   ]
  },
  {
   "cell_type": "code",
   "execution_count": 9,
   "metadata": {},
   "outputs": [
    {
     "data": {
      "image/jpeg": "[encoded data removed]",
      "text/plain": [
       "<IPython.core.display.Image object>"
      ]
     },
     "metadata": {},
     "output_type": "display_data"
    }
   ],
   "source": [
    "graph_builder.add_node(\"chatbot\", chatbot)\n",
    "\n",
    "graph_builder.add_edge(START, \"chatbot\")\n",
    "graph_builder.add_edge(\"chatbot\", END)\n",
    "\n",
    "graph = graph_builder.compile()\n",
    "\n",
    "from IPython.display import Image, display\n",
    "\n",
    "try:\n",
    "    display(Image(graph.get_graph().draw_mermaid_png()))\n",
    "except Exception:\n",
    "    # This requires some extra dependencies and is optional\n",
    "    pass"
   ]
  },
  {
   "cell_type": "code",
   "execution_count": 11,
   "metadata": {},
   "outputs": [
    {
     "name": "stdout",
     "output_type": "stream",
     "text": [
      "Assistant: As of October 2023, the state of structural health monitoring (SHM) for static concrete bridges has advanced significantly, driven by technological innovations, increased awareness of infrastructure safety, and regulatory requirements. Here’s a high-level overview of the current landscape:\n",
      "\n",
      "### 1. **Technological Advancements**\n",
      "- **Sensor Technologies**: The use of various sensors, including strain gauges, accelerometers, displacement transducers, and temperature sensors, has become commonplace. These sensors are often integrated into the bridge structure to provide real-time data on performance and condition.\n",
      "- **Wireless Monitoring**: Wireless sensor networks (WSNs) have gained traction, allowing for easier installation and maintenance, as well as reducing the need for extensive wiring.\n",
      "- **Drones and UAVs**: Unmanned aerial vehicles (UAVs) are increasingly used for visual inspections and to collect data on hard-to-reach areas, enhancing the efficiency of monitoring efforts.\n",
      "\n",
      "### 2. **Data Analytics and Machine Learning**\n",
      "- **Big Data and AI**: The integration of big data analytics and machine learning algorithms has improved the ability to process and analyze large volumes of data collected from sensors. These technologies help in identifying patterns, predicting failures, and optimizing maintenance schedules.\n",
      "- **Predictive Maintenance**: Advanced analytics enable predictive maintenance strategies, allowing for proactive interventions before significant issues arise, thus extending the lifespan of bridges and reducing costs.\n",
      "\n",
      "### 3. **Regulatory and Standardization Efforts**\n",
      "- **Increased Regulations**: Governments and regulatory bodies are placing greater emphasis on SHM as part of infrastructure management. This includes guidelines for the implementation of SHM systems and regular reporting of bridge conditions.\n",
      "- **Standardization**: Efforts are underway to standardize SHM practices and technologies, ensuring consistency and reliability in monitoring processes across different regions and bridge types.\n",
      "\n",
      "### 4. **Integration with Asset Management Systems**\n",
      "- **Holistic Approaches**: SHM is increasingly being integrated into broader asset management systems, allowing for a comprehensive view of infrastructure health and facilitating better decision-making regarding maintenance and funding.\n",
      "- **Lifecycle Management**: The focus is shifting towards lifecycle management of bridges, where SHM data informs not just immediate repairs but also long-term planning and investment strategies.\n",
      "\n",
      "### 5. **Challenges and Limitations**\n",
      "- **Cost and Funding**: While technology has advanced, the initial costs of implementing comprehensive SHM systems can be a barrier, particularly for older bridges or those with limited budgets.\n",
      "- **Data Overload**: The sheer volume of data generated can overwhelm existing data management systems, necessitating robust data processing and analysis capabilities.\n",
      "- **Interoperability**: Ensuring that different SHM systems and technologies can work together seamlessly remains a challenge, particularly as new technologies emerge.\n",
      "\n",
      "### 6. **Future Directions**\n",
      "- **Smart Bridges**: The concept of \"smart bridges\" is gaining traction, where bridges are equipped with advanced monitoring systems that can autonomously assess their condition and communicate with maintenance teams.\n",
      "- **Sustainability**: There is a growing emphasis on sustainable practices in bridge design and monitoring, including the use of eco-friendly materials and energy-efficient monitoring systems.\n",
      "\n",
      "In summary, the field of structural health monitoring for static concrete bridges is evolving rapidly, characterized by technological advancements, enhanced data analytics, and a focus on proactive maintenance strategies. However, challenges remain, particularly in terms of cost, data management, and standardization. The future promises further integration of smart technologies and sustainable practices, aiming to improve the safety and longevity of bridge infrastructure.\n",
      "Goodbye!\n"
     ]
    }
   ],
   "source": [
    "def stream_graph_updates(user_input: str):\n",
    "    for event in graph.stream({\"messages\": [(\"user\", user_input)]}):\n",
    "        for value in event.values():\n",
    "            print(\"Assistant:\", value[\"messages\"][-1].content)\n",
    "\n",
    "\n",
    "while True:\n",
    "    try:\n",
    "        user_input = input(\"User: \")\n",
    "        if user_input.lower() in [\"quit\", \"exit\", \"q\"]:\n",
    "            print(\"Goodbye!\")\n",
    "            break\n",
    "\n",
    "        stream_graph_updates(user_input)\n",
    "    except:\n",
    "        # fallback if input() is not available\n",
    "        user_input = \"What do you know about LangGraph?\"\n",
    "        print(\"User: \" + user_input)\n",
    "        stream_graph_updates(user_input)\n",
    "        break"
   ]
  },
  {
   "cell_type": "markdown",
   "metadata": {},
   "source": [
    "# Exercise 1: Single-Agent task execution\n",
    "\n",
    "Building one agent that creates a summary by extracting key information.\n"
   ]
  },
  {
   "cell_type": "code",
   "execution_count": 23,
   "metadata": {},
   "outputs": [],
   "source": [
    "from typing import Annotated\n",
    "from typing_extensions import TypedDict\n",
    "\n",
    "from langgraph.graph import StateGraph, START, END\n",
    "from langgraph.graph.message import add_messages\n",
    "\n",
    "class State(TypedDict):\n",
    "    data: str\n",
    "    key_details: str\n",
    "    sentiment: str\n",
    "    article: str\n",
    "\n",
    "graph_builder = StateGraph(State)"
   ]
  },
  {
   "cell_type": "code",
   "execution_count": 24,
   "metadata": {},
   "outputs": [],
   "source": [
    "path_to_text = \"../data/input/news_articles/article1.txt\"\n",
    "\n",
    "with open(path_to_text, 'r') as f:\n",
    "    data = f.read()\n",
    "\n",
    "# print(data)\n"
   ]
  },
  {
   "cell_type": "code",
   "execution_count": 25,
   "metadata": {},
   "outputs": [],
   "source": [
    "def key_details(state: State):\n",
    "    prompt = f'''\n",
    "    Extract relevant information from the following news article: [{state[\"data\"]}]. Please return a list of extracted key\n",
    "    details in the format: ['topic1', 'topic2', 'author', 'date', 'location', ...]. Only include one instance of each detail, and\n",
    "    prioritize accuracy over brevity. If multiple sources report conflicting information, please indicate this in your output.\n",
    "\n",
    "    **Example Output Format:**\n",
    "\n",
    "    * Each topic should be represented as a unique string (e.g., \"COVID-19 pandemic\", \"global economy\", etc.)\n",
    "    * The author's name should be included if present\n",
    "    * Date and location should be included if explicitly stated\n",
    "    * Other relevant details (such as organization, event, or policy) can also be extracted\n",
    "\n",
    "    **Constraints:**\n",
    "\n",
    "    * Only extract information that is verifiable through primary sources\n",
    "    * Avoid making inferences or assumptions beyond what is explicitly stated in the article\n",
    "    * Prioritize accuracy over brevity; do not omit essential details for the sake of concision\"\n",
    "    '''\n",
    "    state[\"key_details\"] = llm.invoke(prompt)\n",
    "    return state\n",
    "    \n",
    "def sentiment(state: State):\n",
    "    prompt = f\"\"\"\n",
    "    Perform a sentiment analysis on the following news article: [{state[\"data\"]}].\n",
    "    Classify the data to either of the following options: positive, negative or neutral.\n",
    "    \"\"\"\n",
    "    state[\"sentiment\"] = llm.invoke(prompt)\n",
    "    return state\n",
    "\n",
    "def write_summary(state: State):\n",
    "    prompt = f\"\"\"\n",
    "    Write a coherent summary of approximately 100 words of a news article using the following key details: {state[\"key_details\"]}.\n",
    "    Start of your summary with the sentiment of the article which is {state[\"sentiment\"]}.\n",
    "    \"\"\"\n",
    "    state[\"article\"] = llm.invoke(prompt)\n",
    "    return state\n"
   ]
  },
  {
   "cell_type": "code",
   "execution_count": 27,
   "metadata": {},
   "outputs": [
    {
     "data": {
      "image/jpeg": "[encoded data removed]",
      "text/plain": [
       "<IPython.core.display.Image object>"
      ]
     },
     "metadata": {},
     "output_type": "display_data"
    }
   ],
   "source": [
    "graph_builder.add_node(\"get_key_details\", key_details)\n",
    "graph_builder.add_node(\"get_sentiment\", sentiment)\n",
    "graph_builder.add_node(\"write_summary\", write_summary)\n",
    "\n",
    "graph_builder.add_edge(START, \"get_key_details\")\n",
    "graph_builder.add_edge(\"get_key_details\", \"get_sentiment\")\n",
    "graph_builder.add_edge(\"get_sentiment\", \"write_summary\")\n",
    "graph_builder.add_edge(\"write_summary\", END)\n",
    "\n",
    "graph = graph_builder.compile()\n",
    "\n",
    "try:\n",
    "    display(Image(graph.get_graph().draw_mermaid_png()))\n",
    "except Exception:\n",
    "    # This requires some extra dependencies and is optional\n",
    "    pass\n"
   ]
  },
  {
   "cell_type": "code",
   "execution_count": 29,
   "metadata": {},
   "outputs": [
    {
     "data": {
      "text/plain": [
       "{'data': 'NOS Nieuws•\\nvandaag, 12:11\\nMeer ziekenhuizen in financiële problemen, bedreigt uitvoering Zorgakkoord\\n\\nDe ziekenhuizen in Nederland halen nog maar net een financiële voldoende waardoor ze nog niet in de problemen komen. Maar de noodzakelijke investeringsruimte ontbreekt om de grote hervormingen, zoals die in het Integraal Zorgakkoord (IZA) zijn afgesproken, tot een succes te maken. Dat concludeert accountantskantoor BDO in zijn jaarlijkse rapportage over de financiële situatie van de ziekenhuissector.\\n\\nVan de 60 onderzochte algemene ziekenhuizen scoren er 35 over het jaar 2023 een voldoende. In 2022 waren dat er nog 55. BDO benadrukt dat de kwaliteit van zorg niet ondermaats is, het gaat om het financiële plaatje.\\n\\nHet gemiddelde rapportcijfer voor algemene ziekenhuizen valt met een 5,5 veel lager uit. In 2022 was het met een 7,1 nog een ruime voldoende. Deze verslechtering komt ook enigszins doordat BDO de onderzoeksmethode heeft aangepast. Onderdelen als de investerings- en financieringscapaciteit van de ziekenhuizen wordt meegewogen en juist daar zit de achilleshiel.\\n\\nBijna de helft van de ziekenhuizen behaalde in 2023 slechts een rendement van onder de 1 procent. De ziekenhuizen die het best presteren, kwamen niet boven de 1,5 procent uit. Dat betekent dat zo\\'n ziekenhuis bij een omzet van 100 euro niet meer dan 1,50 euro overhoudt om te investeren.\\nZorgakkoord in gevaar\\n\\nDeze flinterdunne marge is niet voldoende om zowel de stijgende kosten van personeel en verouderde gebouwen als de noodzakelijke investeringen voor medische innovaties, digitalisering, vergroening en nieuwe gebouwen te financieren.\\n\\nAls deze trend niet wordt gekeerd, komt de uitvoering van het Integraal Zorgakkoord in gevaar, waarschuwt BDO.\\n\\nDit akkoord is de blauwdruk voor hoe de Nederlandse zorg toegankelijk en betaalbaar moet blijven. Cruciaal voor dit akkoord is dat de zorg rondom het toenemende aantal kwetsbare ouderen wordt gereorganiseerd. Die worden als het kan vooral geholpen door huisartsen, zorgverleners in de ouderenzorg en mantelzorgers. Alleen als er een medische noodzaak is, gaan zij nog naar het ziekenhuis.\\nReactie Nederlandse Vereniging van Ziekenhuizen\\n\\nAd Melkert, voorzitter van de Nederlandse Vereniging van Ziekenhuizen, bevestigt dat de sector in financieel zwaar weer zit en dat het financieringsstelsel in de weg zit. \"Daarnaast zien we dat geld op de plank blijft liggen bij zorgverzekeraars. Dat moet anders. Het is belangrijk dat ziekenhuizen weer financieel perspectief krijgen en weten waar ze aan toe zijn. Nodig zijn vaste budgetten voor acute zorg, meerjarige contracten en meer gelijkgestemde inkoop door zorgverzekeraars.\"\\n\\nDit concept staat bekend als \"passende zorg\". Het zou prettiger moeten zijn voor ouderen en ook betaalbaarder voor de maatschappij. Daarnaast is afgesproken dat via preventiebeleid de algehele volksgezondheid moet worden verbeterd waardoor de zorgvraag minder snel stijgt en daarmee de zorgkosten beheersbaar blijven.\\nMinder patiënten\\n\\nOp papier is het een mooi plan, maar uit eerder onderzoek van de gezamenlijke onderzoeksredactie van de NOS en Nieuwsuur blijkt het in de praktijk lastig uitvoerbaar. Een groot obstakel is het financieringsstelsel van de zorg. Ziekenhuizen krijgen per medische verrichting betaald en omdat het akkoord moet leiden tot minder patiënten, lopen de ziekenhuizen financiële risico\\'s.\\n\\nBDO onderstreept dit probleem ook in het rapport. \"Naarmate een ziekenhuis beter wordt in het leveren van passende zorg, worden de financiële resultaten steeds verder uitgehold.\" De accountant roept het kabinet, de Nederlandse Zorgautoriteit en de zorgverzekeraars op om de bekostiging van de zorg in ziekenhuizen te veranderen, zodat passende zorg juist financieel gaat lonen.\\nStelselwijziging\\n\\nAls voorbeeld wordt genoemd om acute zorg niet per medische verrichting te betalen maar via beschikbaarheidsfinanciering. Een ziekenhuis krijgt dan voor een aantal bedden betaald, ongeacht of deze allemaal bezet zijn. Tegelijkertijd noemt BDO al te grote veranderingen in het financieringsstelsel onwenselijk, omdat die de hervormingen in de zorg alleen maar zouden compliceren.\\n\\nMaar uit een rondgang van de onderzoeksredactie van de NOS en Nieuwsuur bleek al dat veel zorgverleners en ziekenhuisbestuurders hier anders tegen aankijken.\\n\\nZonder het veranderen van het financieringsstelsel blijft het hervormen van de zorg slechts wensdenken, zo was de consensus. De prikkel om veel medische handelingen te verrichten om financieel gezond te blijven, blijft gewoon bestaan. Er bestaan al jaren afspraken om dit probleem aan te pakken zonder het stelsel aan te passen, maar echte resultaten zijn er niet.\\n\\nZiekenhuisdirecteur Jaap van den Heuvel omschreef het probleem als volgt: \"Je ziet her en der wel voorbeelden van passende zorg oppoppen, maar als op de achtergrond nog steeds een financieringssysteem doordraait dat zegt: doe vooral meer, dan is het alsof je in de auto keihard gas geeft en tegelijkertijd remt. Dat werkt natuurlijk niet.\"',\n",
       " 'key_details': AIMessage(content=\"['financial problems in hospitals', 'Zorgakkoord', 'BDO', 'today', 'Netherlands', 'Ad Melkert', '2023', 'financial situation of hospitals', 'average score 5.5', 'acute care funding', 'medical innovation', 'digitalization', 'elderly care', 'preventive health policy', 'availability financing', 'appropriate care', 'hospital directors', 'financial risks']\", additional_kwargs={'refusal': None}, response_metadata={'token_usage': {'completion_tokens': 86, 'prompt_tokens': 1311, 'total_tokens': 1397, 'completion_tokens_details': {'audio_tokens': None, 'reasoning_tokens': 0}, 'prompt_tokens_details': {'audio_tokens': None, 'cached_tokens': 0}}, 'model_name': 'gpt-4o-mini-2024-07-18', 'system_fingerprint': 'fp_8bfc6a7dc2', 'finish_reason': 'stop', 'logprobs': None}, id='run-22de1806-a890-4802-8923-16fddde7607f-0', usage_metadata={'input_tokens': 1311, 'output_tokens': 86, 'total_tokens': 1397, 'input_token_details': {'cache_read': 0}, 'output_token_details': {'reasoning': 0}}),\n",
       " 'sentiment': AIMessage(content='The sentiment of the news article can be classified as **negative**. \\n\\nThe article discusses the financial struggles of hospitals in the Netherlands, highlighting issues such as insufficient investment capacity, declining financial scores, and the potential jeopardy of the Zorgakkoord (Care Agreement). It emphasizes the challenges faced by hospitals in maintaining quality care while dealing with financial constraints, and it points out systemic issues in the healthcare financing model that hinder necessary reforms. Overall, the tone conveys concern and urgency regarding the financial health of the hospital sector and the implications for healthcare delivery.', additional_kwargs={'refusal': None}, response_metadata={'token_usage': {'completion_tokens': 109, 'prompt_tokens': 1134, 'total_tokens': 1243, 'completion_tokens_details': {'audio_tokens': None, 'reasoning_tokens': 0}, 'prompt_tokens_details': {'audio_tokens': None, 'cached_tokens': 0}}, 'model_name': 'gpt-4o-mini-2024-07-18', 'system_fingerprint': 'fp_f59a81427f', 'finish_reason': 'stop', 'logprobs': None}, id='run-844ed0cc-bd9e-4f1c-b6b5-e307b849e403-0', usage_metadata={'input_tokens': 1134, 'output_tokens': 109, 'total_tokens': 1243, 'input_token_details': {'cache_read': 0}, 'output_token_details': {'reasoning': 0}}),\n",
       " 'article': AIMessage(content='The sentiment of the news article can be classified as **negative**. It discusses the financial struggles of hospitals in the Netherlands, revealing a concerning average score of 5.5 regarding their financial situation. Hospital directors, including Ad Melkert, express worries about acute care funding and the impact on medical innovation and digitalization. The article highlights systemic issues in healthcare financing that threaten the Zorgakkoord (Care Agreement) and the availability of appropriate care, particularly for elderly patients. The urgent need for reforms in preventive health policy is emphasized, as financial risks continue to jeopardize the quality of healthcare delivery.', additional_kwargs={'refusal': None}, response_metadata={'token_usage': {'completion_tokens': 119, 'prompt_tokens': 646, 'total_tokens': 765, 'completion_tokens_details': {'audio_tokens': None, 'reasoning_tokens': 0}, 'prompt_tokens_details': {'audio_tokens': None, 'cached_tokens': 0}}, 'model_name': 'gpt-4o-mini-2024-07-18', 'system_fingerprint': 'fp_f59a81427f', 'finish_reason': 'stop', 'logprobs': None}, id='run-19b90129-11a1-460c-af34-46d623b9ef5d-0', usage_metadata={'input_tokens': 646, 'output_tokens': 119, 'total_tokens': 765, 'input_token_details': {'cache_read': 0}, 'output_token_details': {'reasoning': 0}})}"
      ]
     },
     "execution_count": 29,
     "metadata": {},
     "output_type": "execute_result"
    }
   ],
   "source": [
    "graph.invoke({\"data\": data})"
   ]
  },
  {
   "cell_type": "markdown",
   "metadata": {},
   "source": [
    "# Exercise 2: Multi-agent sequential workflow\n",
    "\n",
    "Implement a workflowq with two agents passing data to one another,\n",
    "The workflow consists of two agents, one is given the task to extract paragraphs from a document whilst Agent B analyzes each paragraph and returns a structured sentiment report."
   ]
  },
  {
   "cell_type": "markdown",
   "metadata": {},
   "source": [
    "# Exercise 3: Multi-agent collaborative workflow\n",
    "Design a collaborative system where agents handle tasks simultaneously. \n",
    "- Agent 1 makes a summary\n",
    "- Agent 2 analyzes the keywords\n",
    "- Agent 3 performs a sentiment analysis.\n",
    "\n",
    "The output will be given to the next agent that combines the results of the agents to make a broad overview of the document.\n"
   ]
  },
  {
   "cell_type": "markdown",
   "metadata": {},
   "source": [
    "# Exercise 4: Conditional Agent Execution\n",
    "\n",
    "Create a workflow where Agent A (Text analysis), determines if Agent B needs to be activated:\n",
    "\n",
    "1. Agent A checks an incoming tweet on sentiment (if the sentiment is negative, write a reaction else ignore)\n",
    "2. If the tweet is negative, let Agent B write a reaction to the tweet.\n",
    "3. If not, do nothing."
   ]
  },
  {
   "cell_type": "markdown",
   "metadata": {},
   "source": [
    "# Exercise 5: Conditional Agent Execution with function calling\n",
    "\n",
    "Create a workflow where Agent A (Text analysis), determines if Agent B needs to be activated:\n",
    "\n",
    "1. Agent A checks an incoming tweet on sentiment (if the sentiment is negative, write a reaction else ignore)\n",
    "2. If the tweet is negative, let Agent B write a reaction to the tweet.\n",
    "3. Ask for human feedback if the tweet is OK or what needs to change\n",
    "4. If OK, execute function to tweet (just a function that prints finish), else rewrite"
   ]
  }
 ],
 "metadata": {
  "kernelspec": {
   "display_name": "agent-translator",
   "language": "python",
   "name": "python3"
  },
  "language_info": {
   "codemirror_mode": {
    "name": "ipython",
    "version": 3
   },
   "file_extension": ".py",
   "mimetype": "text/x-python",
   "name": "python",
   "nbconvert_exporter": "python",
   "pygments_lexer": "ipython3",
   "version": "3.13.0"
  }
 },
 "nbformat": 4,
 "nbformat_minor": 2
}
